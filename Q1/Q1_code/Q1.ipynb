{
 "cells": [
  {
   "cell_type": "markdown",
   "source": [
    "# Dependencies\n"
   ],
   "metadata": {
    "collapsed": false
   },
   "id": "b3a47052850ae905"
  },
  {
   "cell_type": "code",
   "execution_count": 65,
   "outputs": [],
   "source": [
    "import os\n",
    "import pandas as pd\n",
    "from sklearn.model_selection import train_test_split\n",
    "from sklearn.ensemble import RandomForestClassifier\n",
    "from sklearn.metrics import accuracy_score, confusion_matrix, classification_report\n",
    "from imblearn.combine import SMOTEENN, SMOTETomek\n",
    "from xgboost import XGBClassifier"
   ],
   "metadata": {
    "collapsed": false,
    "ExecuteTime": {
     "start_time": "2023-12-14T12:55:14.932647400Z"
    }
   },
   "id": "initial_id"
  },
  {
   "cell_type": "markdown",
   "source": [
    "# Read file"
   ],
   "metadata": {
    "collapsed": false
   },
   "id": "33330c477669ab8f"
  },
  {
   "cell_type": "code",
   "execution_count": 10,
   "outputs": [],
   "source": [
    "# Get the path of all CSV files in the folder\n",
    "folder_path = '../Q1_data/train'\n",
    "file_list = os.listdir(folder_path)\n",
    "csv_files = [file for file in file_list if file.endswith('.csv')]\n",
    "print(csv_files)"
   ],
   "metadata": {
    "collapsed": false,
    "ExecuteTime": {
     "end_time": "2023-12-14T11:26:10.007851900Z",
     "start_time": "2023-12-14T11:26:09.997852200Z"
    }
   },
   "id": "c69e411eda49a062"
  },
  {
   "cell_type": "code",
   "execution_count": 16,
   "outputs": [
    {
     "name": "stdout",
     "output_type": "stream",
     "text": [
      "           x          y          z  a  b  c  d  Is_Falling\n",
      "0  18.495860  13.766527  14.362624  0  0  0  1           0\n",
      "1  18.501072  13.827225  14.270268  0  0  1  0           0\n",
      "2  18.405950  13.868976  14.094804  1  0  0  0           0\n",
      "3  18.444572  13.910701  14.116078  0  1  0  0           0\n",
      "4  18.418470  13.933917  14.320566  0  0  0  1           0\n",
      "(134229, 8)\n"
     ]
    }
   ],
   "source": [
    "# Read and merge all CSV files for training\n",
    "data_list = []\n",
    "for file in csv_files:\n",
    "    file_path = os.path.join(folder_path, file)\n",
    "    data = pd.read_csv(file_path)\n",
    "    data_list.append(data)\n",
    "\n",
    "df = pd.concat(data_list)\n",
    "\n",
    "# Check the DataFrame\n",
    "print(df.head())\n",
    "print(df.shape)"
   ],
   "metadata": {
    "collapsed": false,
    "ExecuteTime": {
     "end_time": "2023-12-14T11:30:14.039384600Z",
     "start_time": "2023-12-14T11:30:13.942384700Z"
    }
   },
   "id": "35631009d6507bd9"
  },
  {
   "cell_type": "code",
   "execution_count": 18,
   "outputs": [
    {
     "name": "stdout",
     "output_type": "stream",
     "text": [
      "   ID         x          y          z  a  b  c  d  Is_Falling\n",
      "0   1  6.912997  11.518698  15.471855  0  0  0  1           0\n",
      "1   2  6.936432  11.574586  15.446939  0  0  1  0           0\n",
      "2   3  6.935274  11.571790  15.437505  1  0  0  0           0\n",
      "3   4  6.886688  11.561593  15.704019  0  0  0  1           0\n",
      "4   5  6.921823  11.597728  15.634435  0  0  1  0           0\n",
      "(6623, 9)\n"
     ]
    }
   ],
   "source": [
    "test_df = pd.read_csv('../Q1_data/test/test_set.csv')\n",
    "print(test_df.head())\n",
    "print(test_df.shape)"
   ],
   "metadata": {
    "collapsed": false,
    "ExecuteTime": {
     "end_time": "2023-12-14T11:33:49.714042200Z",
     "start_time": "2023-12-14T11:33:49.699043300Z"
    }
   },
   "id": "221d6c650727e648"
  },
  {
   "cell_type": "code",
   "execution_count": 26,
   "outputs": [
    {
     "name": "stdout",
     "output_type": "stream",
     "text": [
      "0.04896855374024987\n",
      "0.05178921938698475\n"
     ]
    }
   ],
   "source": [
    "# Exploring the numerical distribution of labels\n",
    "zero = len(df[df['Is_Falling'] == 1])\n",
    "zero_test = len(test_df[test_df['Is_Falling'] == 1])\n",
    "print(zero/df.shape[0])\n",
    "print(zero_test/test_df.shape[0])"
   ],
   "metadata": {
    "collapsed": false,
    "ExecuteTime": {
     "end_time": "2023-12-14T11:51:17.259345800Z",
     "start_time": "2023-12-14T11:51:17.251347800Z"
    }
   },
   "id": "b53a23edca88913c"
  },
  {
   "cell_type": "markdown",
   "source": [
    "# Method 1: oversampling"
   ],
   "metadata": {
    "collapsed": false
   },
   "id": "3f5d36fc1d89105"
  },
  {
   "cell_type": "code",
   "execution_count": 148,
   "outputs": [
    {
     "name": "stdout",
     "output_type": "stream",
     "text": [
      "Accuracy: 0.9320941667287491\n",
      "Confusion Matrix:\n",
      " [[24014  1543]\n",
      " [  280  1009]]\n",
      "Classification Report:\n",
      "               precision    recall  f1-score   support\n",
      "\n",
      "           0       0.99      0.94      0.96     25557\n",
      "           1       0.40      0.78      0.53      1289\n",
      "\n",
      "    accuracy                           0.93     26846\n",
      "   macro avg       0.69      0.86      0.74     26846\n",
      "weighted avg       0.96      0.93      0.94     26846\n"
     ]
    }
   ],
   "source": [
    "# Format data\n",
    "X = df.iloc[:, :7]\n",
    "y = df.iloc[:, 7] \n",
    "\n",
    "X_train, X_val, y_train, y_val = train_test_split(X, y, test_size=0.2, random_state=42)\n",
    "\n",
    "# Using SMOTETomek to balance data\n",
    "sm = SMOTETomek(random_state=0)\n",
    "X_res, y_res = sm.fit_resample(X_train, y_train)\n",
    "\n",
    "# Using the Random Forest Model\n",
    "model = RandomForestClassifier(n_estimators=100, random_state=0, max_depth=20)\n",
    "model.fit(X_res, y_res)\n",
    "\n",
    "# Predict\n",
    "y_pred = model.predict(X_val)\n",
    "\n",
    "# Evaluate\n",
    "print('Accuracy:', accuracy_score(y_val, y_pred))\n",
    "print('Confusion Matrix:\\n', confusion_matrix(y_val, y_pred))\n",
    "print('Classification Report:\\n', classification_report(y_val, y_pred))"
   ],
   "metadata": {
    "collapsed": false,
    "ExecuteTime": {
     "end_time": "2023-12-14T14:05:56.954713Z",
     "start_time": "2023-12-14T14:05:30.831523500Z"
    }
   },
   "id": "9bd374b60f5c3d41"
  },
  {
   "cell_type": "code",
   "execution_count": 149,
   "outputs": [
    {
     "name": "stdout",
     "output_type": "stream",
     "text": [
      "Accuracy: 0.912124414917711\n",
      "Confusion Matrix:\n",
      " [[5936  344]\n",
      " [ 238  105]]\n",
      "Classification Report:\n",
      "               precision    recall  f1-score   support\n",
      "\n",
      "           0       0.96      0.95      0.95      6280\n",
      "           1       0.23      0.31      0.27       343\n",
      "\n",
      "    accuracy                           0.91      6623\n",
      "   macro avg       0.60      0.63      0.61      6623\n",
      "weighted avg       0.92      0.91      0.92      6623\n"
     ]
    }
   ],
   "source": [
    "# Do it on test set\n",
    "X_test = test_df.iloc[:, 1:8]\n",
    "y_test = test_df.iloc[:, 8]\n",
    "\n",
    "y_pred = model.predict(X_test)\n",
    "\n",
    "print('Accuracy:', accuracy_score(y_test, y_pred))\n",
    "print('Confusion Matrix:\\n', confusion_matrix(y_test, y_pred))\n",
    "print('Classification Report:\\n', classification_report(y_test, y_pred))"
   ],
   "metadata": {
    "collapsed": false,
    "ExecuteTime": {
     "end_time": "2023-12-14T14:06:36.967619Z",
     "start_time": "2023-12-14T14:06:36.912619600Z"
    }
   },
   "id": "1c6d238af9ee5500"
  },
  {
   "cell_type": "markdown",
   "source": [
    "# Method 2: Ensemble model"
   ],
   "metadata": {
    "collapsed": false
   },
   "id": "35025633f6c843f8"
  },
  {
   "cell_type": "code",
   "execution_count": 152,
   "outputs": [
    {
     "name": "stdout",
     "output_type": "stream",
     "text": [
      "Accuracy: 0.906541011696342\n",
      "Confusion Matrix:\n",
      " [[23225  2332]\n",
      " [  177  1112]]\n",
      "Classification Report:\n",
      "               precision    recall  f1-score   support\n",
      "\n",
      "           0       0.99      0.91      0.95     25557\n",
      "           1       0.32      0.86      0.47      1289\n",
      "\n",
      "    accuracy                           0.91     26846\n",
      "   macro avg       0.66      0.89      0.71     26846\n",
      "weighted avg       0.96      0.91      0.93     26846\n"
     ]
    }
   ],
   "source": [
    "# Format data\n",
    "X = df.iloc[:, :7]\n",
    "y = df.iloc[:, 7] \n",
    "\n",
    "X_train, X_val, y_train, y_val = train_test_split(X, y, test_size=0.2, random_state=42)\n",
    "\n",
    "# Initialize XGBoost model\n",
    "model = XGBClassifier(scale_pos_weight=95/5)\n",
    "\n",
    "# Predict\n",
    "model.fit(X_train, y_train)\n",
    "y_pred = model.predict(X_val)\n",
    "\n",
    "# Evaluate\n",
    "print('Accuracy:', accuracy_score(y_val, y_pred))\n",
    "print('Confusion Matrix:\\n', confusion_matrix(y_val, y_pred))\n",
    "print('Classification Report:\\n', classification_report(y_val, y_pred))"
   ],
   "metadata": {
    "collapsed": false,
    "ExecuteTime": {
     "end_time": "2023-12-14T14:08:39.695612800Z",
     "start_time": "2023-12-14T14:08:37.411612400Z"
    }
   },
   "id": "fbd8c9b29b0fe24b"
  },
  {
   "cell_type": "code",
   "execution_count": 153,
   "outputs": [
    {
     "name": "stdout",
     "output_type": "stream",
     "text": [
      "Accuracy: 0.9291861694096331\n",
      "Confusion Matrix:\n",
      " [[6034  246]\n",
      " [ 223  120]]\n",
      "Classification Report:\n",
      "               precision    recall  f1-score   support\n",
      "\n",
      "           0       0.96      0.96      0.96      6280\n",
      "           1       0.33      0.35      0.34       343\n",
      "\n",
      "    accuracy                           0.93      6623\n",
      "   macro avg       0.65      0.66      0.65      6623\n",
      "weighted avg       0.93      0.93      0.93      6623\n"
     ]
    }
   ],
   "source": [
    "# Do it on test set\n",
    "X_test = test_df.iloc[:, 1:8]\n",
    "y_test = test_df.iloc[:, 8]\n",
    "\n",
    "y_pred = model.predict(X_test)\n",
    "\n",
    "print('Accuracy:', accuracy_score(y_test, y_pred))\n",
    "print('Confusion Matrix:\\n', confusion_matrix(y_test, y_pred))\n",
    "print('Classification Report:\\n', classification_report(y_test, y_pred))"
   ],
   "metadata": {
    "collapsed": false,
    "ExecuteTime": {
     "end_time": "2023-12-14T14:08:43.411514500Z",
     "start_time": "2023-12-14T14:08:43.356515200Z"
    }
   },
   "id": "b94eedc39717ed41"
  },
  {
   "cell_type": "markdown",
   "source": [
    "# Output the Result"
   ],
   "metadata": {
    "collapsed": false
   },
   "id": "a4a4d3f7d2b8cc40"
  },
  {
   "cell_type": "code",
   "execution_count": 154,
   "outputs": [],
   "source": [
    "test_df['prediction'] = y_pred\n",
    "outputs = test_df[['ID', 'prediction']]\n",
    "outputs.to_csv('../Q1_output.csv', index=False)"
   ],
   "metadata": {
    "collapsed": false,
    "ExecuteTime": {
     "end_time": "2023-12-14T14:10:51.695575600Z",
     "start_time": "2023-12-14T14:10:51.674575400Z"
    }
   },
   "id": "a000ed625908163e"
  }
 ],
 "metadata": {
  "kernelspec": {
   "display_name": "Python 3",
   "language": "python",
   "name": "python3"
  },
  "language_info": {
   "codemirror_mode": {
    "name": "ipython",
    "version": 2
   },
   "file_extension": ".py",
   "mimetype": "text/x-python",
   "name": "python",
   "nbconvert_exporter": "python",
   "pygments_lexer": "ipython2",
   "version": "2.7.6"
  }
 },
 "nbformat": 4,
 "nbformat_minor": 5
}
